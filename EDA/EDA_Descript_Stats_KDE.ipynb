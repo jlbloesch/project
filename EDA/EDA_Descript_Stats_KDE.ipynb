{
 "cells": [
  {
   "cell_type": "markdown",
   "id": "soviet-africa",
   "metadata": {},
   "source": [
    "### Author: Justin Bloesch\n",
    "Electricity Demand and Temperature descriptive statistics and density plots"
   ]
  },
  {
   "cell_type": "code",
   "execution_count": 78,
   "id": "quantitative-invalid",
   "metadata": {},
   "outputs": [],
   "source": [
    "import pandas as pd\n",
    "import warnings\n",
    "import seaborn as sns\n",
    "import matplotlib.pyplot as plt\n",
    "\n",
    "#pd.set_option('display.max_colwidth', None)\n",
    "#pd. set_option('display.max_rows', None)\n",
    "warnings.filterwarnings('ignore')\n",
    "\n",
    "%matplotlib inline"
   ]
  },
  {
   "cell_type": "code",
   "execution_count": 79,
   "id": "contemporary-walker",
   "metadata": {},
   "outputs": [],
   "source": [
    "#Load SA Demand data set\n",
    "demand_temp_sa_df = pd.read_csv('demand_data_sa.csv')"
   ]
  },
  {
   "cell_type": "code",
   "execution_count": 80,
   "id": "indirect-adams",
   "metadata": {},
   "outputs": [
    {
     "data": {
      "text/html": [
       "<div>\n",
       "<style scoped>\n",
       "    .dataframe tbody tr th:only-of-type {\n",
       "        vertical-align: middle;\n",
       "    }\n",
       "\n",
       "    .dataframe tbody tr th {\n",
       "        vertical-align: top;\n",
       "    }\n",
       "\n",
       "    .dataframe thead th {\n",
       "        text-align: right;\n",
       "    }\n",
       "</style>\n",
       "<table border=\"1\" class=\"dataframe\">\n",
       "  <thead>\n",
       "    <tr style=\"text-align: right;\">\n",
       "      <th></th>\n",
       "      <th>DATETIME</th>\n",
       "      <th>TOTALDEMAND</th>\n",
       "      <th>TEMPERATURE</th>\n",
       "      <th>DAY_FLG</th>\n",
       "      <th>FIRSTFORECASTDEMAND</th>\n",
       "      <th>LASTFORECASTDEMAND</th>\n",
       "      <th>FORECASTDEMAND</th>\n",
       "      <th>SEASON</th>\n",
       "      <th>DAY_OF_WEEK</th>\n",
       "    </tr>\n",
       "  </thead>\n",
       "  <tbody>\n",
       "    <tr>\n",
       "      <th>0</th>\n",
       "      <td>2017-01-01 00:00:00.000</td>\n",
       "      <td>1469.06</td>\n",
       "      <td>26.5</td>\n",
       "      <td>0</td>\n",
       "      <td>1394.41</td>\n",
       "      <td>1478.40</td>\n",
       "      <td>1421.12</td>\n",
       "      <td>SUMMER</td>\n",
       "      <td>Sunday</td>\n",
       "    </tr>\n",
       "    <tr>\n",
       "      <th>1</th>\n",
       "      <td>2017-01-01 00:30:00.000</td>\n",
       "      <td>1395.21</td>\n",
       "      <td>26.3</td>\n",
       "      <td>0</td>\n",
       "      <td>1285.07</td>\n",
       "      <td>1394.15</td>\n",
       "      <td>1321.54</td>\n",
       "      <td>SUMMER</td>\n",
       "      <td>Sunday</td>\n",
       "    </tr>\n",
       "  </tbody>\n",
       "</table>\n",
       "</div>"
      ],
      "text/plain": [
       "                  DATETIME  TOTALDEMAND  TEMPERATURE  DAY_FLG  \\\n",
       "0  2017-01-01 00:00:00.000      1469.06         26.5        0   \n",
       "1  2017-01-01 00:30:00.000      1395.21         26.3        0   \n",
       "\n",
       "   FIRSTFORECASTDEMAND  LASTFORECASTDEMAND  FORECASTDEMAND  SEASON DAY_OF_WEEK  \n",
       "0              1394.41             1478.40         1421.12  SUMMER      Sunday  \n",
       "1              1285.07             1394.15         1321.54  SUMMER      Sunday  "
      ]
     },
     "execution_count": 80,
     "metadata": {},
     "output_type": "execute_result"
    }
   ],
   "source": [
    "demand_temp_sa_df.head(2)"
   ]
  },
  {
   "cell_type": "code",
   "execution_count": 81,
   "id": "incorporated-athletics",
   "metadata": {},
   "outputs": [],
   "source": [
    "#Convert DATETIME string to type datetime \n",
    "demand_temp_sa_df['DATETIME'] = pd.to_datetime(demand_temp_sa_df['DATETIME'])"
   ]
  },
  {
   "cell_type": "code",
   "execution_count": 82,
   "id": "russian-outreach",
   "metadata": {},
   "outputs": [],
   "source": [
    "demand_temp_sa_df = demand_temp_sa_df.rename(columns={'TOTALDEMAND': 'DEMAND (MW)', 'TEMPERATURE': 'TEMP (C)'})"
   ]
  },
  {
   "cell_type": "code",
   "execution_count": 83,
   "id": "facial-title",
   "metadata": {},
   "outputs": [],
   "source": [
    "#Get Total demand and temperature basic descriptive statistics\n",
    "stats_df = demand_temp_sa_df[['DEMAND (MW)', 'TEMP (C)']].describe()"
   ]
  },
  {
   "cell_type": "code",
   "execution_count": 84,
   "id": "opened-february",
   "metadata": {},
   "outputs": [
    {
     "data": {
      "text/html": [
       "<div>\n",
       "<style scoped>\n",
       "    .dataframe tbody tr th:only-of-type {\n",
       "        vertical-align: middle;\n",
       "    }\n",
       "\n",
       "    .dataframe tbody tr th {\n",
       "        vertical-align: top;\n",
       "    }\n",
       "\n",
       "    .dataframe thead th {\n",
       "        text-align: right;\n",
       "    }\n",
       "</style>\n",
       "<table border=\"1\" class=\"dataframe\">\n",
       "  <thead>\n",
       "    <tr style=\"text-align: right;\">\n",
       "      <th></th>\n",
       "      <th>DEMAND (MW)</th>\n",
       "      <th>TEMP (C)</th>\n",
       "    </tr>\n",
       "  </thead>\n",
       "  <tbody>\n",
       "    <tr>\n",
       "      <th>count</th>\n",
       "      <td>73740.000000</td>\n",
       "      <td>73740.000000</td>\n",
       "    </tr>\n",
       "    <tr>\n",
       "      <th>mean</th>\n",
       "      <td>1288.288591</td>\n",
       "      <td>20.851611</td>\n",
       "    </tr>\n",
       "    <tr>\n",
       "      <th>std</th>\n",
       "      <td>332.504409</td>\n",
       "      <td>5.747753</td>\n",
       "    </tr>\n",
       "    <tr>\n",
       "      <th>min</th>\n",
       "      <td>284.510000</td>\n",
       "      <td>1.500000</td>\n",
       "    </tr>\n",
       "    <tr>\n",
       "      <th>25%</th>\n",
       "      <td>1086.782500</td>\n",
       "      <td>17.000000</td>\n",
       "    </tr>\n",
       "    <tr>\n",
       "      <th>50%</th>\n",
       "      <td>1253.360000</td>\n",
       "      <td>21.400000</td>\n",
       "    </tr>\n",
       "    <tr>\n",
       "      <th>75%</th>\n",
       "      <td>1455.952500</td>\n",
       "      <td>24.900000</td>\n",
       "    </tr>\n",
       "    <tr>\n",
       "      <th>max</th>\n",
       "      <td>3107.740000</td>\n",
       "      <td>40.600000</td>\n",
       "    </tr>\n",
       "  </tbody>\n",
       "</table>\n",
       "</div>"
      ],
      "text/plain": [
       "        DEMAND (MW)      TEMP (C)\n",
       "count  73740.000000  73740.000000\n",
       "mean    1288.288591     20.851611\n",
       "std      332.504409      5.747753\n",
       "min      284.510000      1.500000\n",
       "25%     1086.782500     17.000000\n",
       "50%     1253.360000     21.400000\n",
       "75%     1455.952500     24.900000\n",
       "max     3107.740000     40.600000"
      ]
     },
     "execution_count": 84,
     "metadata": {},
     "output_type": "execute_result"
    }
   ],
   "source": [
    "stats_df"
   ]
  },
  {
   "cell_type": "code",
   "execution_count": 85,
   "id": "talented-spare",
   "metadata": {},
   "outputs": [
    {
     "data": {
      "text/html": [
       "<style  type=\"text/css\" >\n",
       "#T_cc93d_row0_col0,#T_cc93d_row1_col1{\n",
       "            background-color:  #b40426;\n",
       "            color:  #f1f1f1;\n",
       "        }#T_cc93d_row0_col1,#T_cc93d_row1_col0{\n",
       "            background-color:  #3b4cc0;\n",
       "            color:  #f1f1f1;\n",
       "        }</style><table id=\"T_cc93d_\" ><thead>    <tr>        <th class=\"blank level0\" ></th>        <th class=\"col_heading level0 col0\" >DEMAND (MW)</th>        <th class=\"col_heading level0 col1\" >TEMP (C)</th>    </tr></thead><tbody>\n",
       "                <tr>\n",
       "                        <th id=\"T_cc93d_level0_row0\" class=\"row_heading level0 row0\" >DEMAND (MW)</th>\n",
       "                        <td id=\"T_cc93d_row0_col0\" class=\"data row0 col0\" >1.00</td>\n",
       "                        <td id=\"T_cc93d_row0_col1\" class=\"data row0 col1\" >-0.20</td>\n",
       "            </tr>\n",
       "            <tr>\n",
       "                        <th id=\"T_cc93d_level0_row1\" class=\"row_heading level0 row1\" >TEMP (C)</th>\n",
       "                        <td id=\"T_cc93d_row1_col0\" class=\"data row1 col0\" >-0.20</td>\n",
       "                        <td id=\"T_cc93d_row1_col1\" class=\"data row1 col1\" >1.00</td>\n",
       "            </tr>\n",
       "    </tbody></table>"
      ],
      "text/plain": [
       "<pandas.io.formats.style.Styler at 0x201a26781f0>"
      ]
     },
     "execution_count": 85,
     "metadata": {},
     "output_type": "execute_result"
    }
   ],
   "source": [
    "#Correlation between demand and temperature\n",
    "corr = demand_temp_sa_df[['DEMAND (MW)', 'TEMP (C)']].corr()\n",
    "corr.style.background_gradient(cmap='coolwarm').set_precision(2)"
   ]
  },
  {
   "cell_type": "code",
   "execution_count": null,
   "id": "reflected-visitor",
   "metadata": {},
   "outputs": [],
   "source": []
  },
  {
   "cell_type": "code",
   "execution_count": 86,
   "id": "polished-texture",
   "metadata": {},
   "outputs": [],
   "source": [
    "#SA Forecast demand\n",
    "forecast_sa_df = pd.read_csv('forecastdemand_sa.csv')"
   ]
  },
  {
   "cell_type": "code",
   "execution_count": 113,
   "id": "vulnerable-shopper",
   "metadata": {},
   "outputs": [
    {
     "data": {
      "image/png": "[encoded data removed]",
      "text/plain": [
       "<Figure size 360x360 with 1 Axes>"
      ]
     },
     "metadata": {
      "needs_background": "light"
     },
     "output_type": "display_data"
    }
   ],
   "source": [
    "sns.displot(demand_temp_sa_df, x='TEMP (C)', kind='kde')#.set(title='Temperature Kernel Density Estimate Plot')\n",
    "plt.title('Temperature Density Plot', weight='bold', fontsize=14)\n",
    "plt.xlabel('Temperature (C)', weight='bold', fontsize=12)\n",
    "plt.ylabel('Density', weight='bold', fontsize=12)\n",
    "plt.show()"
   ]
  },
  {
   "cell_type": "code",
   "execution_count": 116,
   "id": "authorized-maldives",
   "metadata": {},
   "outputs": [
    {
     "data": {
      "image/png": "[encoded data removed]",
      "text/plain": [
       "<Figure size 360x360 with 1 Axes>"
      ]
     },
     "metadata": {
      "needs_background": "light"
     },
     "output_type": "display_data"
    }
   ],
   "source": [
    "sns.displot(demand_temp_sa_df, x='DEMAND (MW)', kind='kde')\n",
    "plt.title('Demand Density Plot', weight='bold', fontsize=14)\n",
    "plt.xlabel('Demand (MW)', weight='bold', fontsize=12)\n",
    "plt.ylabel('Density', weight='bold', fontsize=12)\n",
    "plt.show()"
   ]
  },
  {
   "cell_type": "code",
   "execution_count": null,
   "id": "continued-sewing",
   "metadata": {},
   "outputs": [],
   "source": []
  }
 ],
 "metadata": {
  "kernelspec": {
   "display_name": "Python 3",
   "language": "python",
   "name": "python3"
  },
  "language_info": {
   "codemirror_mode": {
    "name": "ipython",
    "version": 3
   },
   "file_extension": ".py",
   "mimetype": "text/x-python",
   "name": "python",
   "nbconvert_exporter": "python",
   "pygments_lexer": "ipython3",
   "version": "3.8.8"
  }
 },
 "nbformat": 4,
 "nbformat_minor": 5
}
